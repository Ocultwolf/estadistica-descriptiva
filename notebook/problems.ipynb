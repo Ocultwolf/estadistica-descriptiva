{
 "cells": [
  {
   "cell_type": "markdown",
   "id": "ac622319",
   "metadata": {},
   "source": [
    "# Descriptive statistics problems"
   ]
  },
  {
   "cell_type": "markdown",
   "id": "5e0ab0d5",
   "metadata": {},
   "source": [
    "### Exercise 1\n",
    "\n",
    "We will use NumPy to obtain information to describe statistically.\n",
    "\n",
    "- Generate an array of 100 elements following a normal distribution.\n",
    "- Generate an array of 100 elements following a chi-square distribution with 3 degrees of freedom.\n",
    "- Calculate the main metrics and statistical measures that best describe the two vectors."
   ]
  },
  {
   "cell_type": "code",
   "execution_count": null,
   "id": "34720ab6",
   "metadata": {},
   "outputs": [
    {
     "name": "stdout",
     "output_type": "stream",
     "text": [
      "Normal Distribution Statistics:\n",
      "count    100.000000\n",
      "mean       0.059808\n",
      "std        1.012960\n",
      "min       -2.552990\n",
      "25%       -0.643857\n",
      "50%        0.094096\n",
      "75%        0.737077\n",
      "max        2.269755\n",
      "Name: Normal Distribution, dtype: float64\n",
      "\n",
      "Chi-Square Distribution Statistics:\n",
      "count    100.000000\n",
      "mean       3.001841\n",
      "std        2.403730\n",
      "min        0.152095\n",
      "25%        1.202113\n",
      "50%        2.364512\n",
      "75%        4.121238\n",
      "max       11.407880\n",
      "Name: Chi-Square Distribution, dtype: float64\n"
     ]
    }
   ],
   "source": [
    "import numpy as np\n",
    "import pandas as pd\n",
    "\n",
    "\n",
    "np.random.seed(0)\n",
    "\n",
    "distribucion_normal = np.random.normal(loc=0, scale=1, size=100)\n",
    "distribucion_chi_square = np.random.chisquare(df=3, size=100)\n",
    "\n",
    "\n",
    "df_normal = pd.Series(distribucion_normal, name='Normal Distribution')\n",
    "df_chi_sqare = pd.Series(distribucion_chi_square, name='Chi-Square Distribution')\n",
    "\n",
    "# Descriptive statistics for Normal Distribution\n",
    "print(\"Estadisticas de la distribucion normal:\")\n",
    "print(df_normal.describe())\n",
    "print(\"Estadisticas de la distribucion chi_cuadrado:\")\n",
    "print(df_chi_sqare.describe())\n"
   ]
  },
  {
   "cell_type": "markdown",
   "id": "46c70c3d",
   "metadata": {},
   "source": [
    "### Exercise 2\n",
    "\n",
    "Write a Python program to calculate the standard deviation of the following data:\n",
    "\n",
    "```py\n",
    "data = [4, 2, 5, 8, 6]\n",
    "```"
   ]
  },
  {
   "cell_type": "code",
   "execution_count": 3,
   "id": "d590308e",
   "metadata": {},
   "outputs": [
    {
     "name": "stdout",
     "output_type": "stream",
     "text": [
      "La desviación estándar es: 2.24\n"
     ]
    }
   ],
   "source": [
    "\n",
    "data = [4, 2, 5, 8, 6]\n",
    "resultado = np.std(data, ddof=1)\n",
    "print(f\"La desviación estándar es: {resultado:.2f}\")\n"
   ]
  }
 ],
 "metadata": {
  "kernelspec": {
   "display_name": "Python 3",
   "language": "python",
   "name": "python3"
  },
  "language_info": {
   "codemirror_mode": {
    "name": "ipython",
    "version": 3
   },
   "file_extension": ".py",
   "mimetype": "text/x-python",
   "name": "python",
   "nbconvert_exporter": "python",
   "pygments_lexer": "ipython3",
   "version": "3.11.4"
  }
 },
 "nbformat": 4,
 "nbformat_minor": 5
}
